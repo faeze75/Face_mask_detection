{
  "cells": [
    {
      "cell_type": "markdown",
      "metadata": {
        "id": "qc_4mV5oNiBA"
      },
      "source": [
        "# 1.**Manage Gpu**\n"
      ]
    },
    {
      "cell_type": "markdown",
      "metadata": {
        "id": "5pszhdyAzS3p"
      },
      "source": [
        ""
      ]
    },
    {
      "cell_type": "code",
      "execution_count": null,
      "metadata": {
        "colab": {
          "base_uri": "https://localhost:8080/"
        },
        "id": "BSn7F5hwNR4C",
        "outputId": "b7ed1a2c-702a-4e3a-e8a7-45c3f457b57e"
      },
      "outputs": [
        {
          "output_type": "stream",
          "name": "stdout",
          "text": [
            "Sat Jun  4 05:07:47 2022       \n",
            "+-----------------------------------------------------------------------------+\n",
            "| NVIDIA-SMI 460.32.03    Driver Version: 460.32.03    CUDA Version: 11.2     |\n",
            "|-------------------------------+----------------------+----------------------+\n",
            "| GPU  Name        Persistence-M| Bus-Id        Disp.A | Volatile Uncorr. ECC |\n",
            "| Fan  Temp  Perf  Pwr:Usage/Cap|         Memory-Usage | GPU-Util  Compute M. |\n",
            "|                               |                      |               MIG M. |\n",
            "|===============================+======================+======================|\n",
            "|   0  Tesla T4            Off  | 00000000:00:04.0 Off |                    0 |\n",
            "| N/A   36C    P8     9W /  70W |      0MiB / 15109MiB |      0%      Default |\n",
            "|                               |                      |                  N/A |\n",
            "+-------------------------------+----------------------+----------------------+\n",
            "                                                                               \n",
            "+-----------------------------------------------------------------------------+\n",
            "| Processes:                                                                  |\n",
            "|  GPU   GI   CI        PID   Type   Process name                  GPU Memory |\n",
            "|        ID   ID                                                   Usage      |\n",
            "|=============================================================================|\n",
            "|  No running processes found                                                 |\n",
            "+-----------------------------------------------------------------------------+\n"
          ]
        }
      ],
      "source": [
        "!nvidia-smi"
      ]
    },
    {
      "cell_type": "markdown",
      "metadata": {
        "id": "DHzQGbPTPWWy"
      },
      "source": [
        "# **2.connectin Colab and Drive**\n"
      ]
    },
    {
      "cell_type": "code",
      "execution_count": null,
      "metadata": {
        "id": "ytmFsbYpPVy7"
      },
      "outputs": [],
      "source": [
        "from google.colab import drive\n",
        "drive.mount('/content/gdrive') \n",
        " ##make a shortlink for our address\n",
        "!ln -s /content/gdrive/My\\ Drive/ /mydrive\n",
        "!ls /mydrive"
      ]
    },
    {
      "cell_type": "markdown",
      "metadata": {
        "id": "-o9ptPT1pSMU"
      },
      "source": [
        "# 3.install and setting Darknet"
      ]
    },
    {
      "cell_type": "code",
      "execution_count": null,
      "metadata": {
        "id": "qkhx41KlpLUt"
      },
      "outputs": [],
      "source": [
        "#clone Darknet\n",
        "!git clone https://github.com/AlexeyAB/darknet.git"
      ]
    },
    {
      "cell_type": "code",
      "execution_count": null,
      "metadata": {
        "id": "W0YTWXHX2l02"
      },
      "outputs": [],
      "source": [
        "#configuration Darknet\n",
        "%cd darknet\n",
        "!sed -i 's/OPENCV=0/OPENCV=1/' Makefile\n",
        "!sed -i 's/GPU=0/GPU=1/' Makefile\n",
        "!sed -i 's/CUDNN=0/CUDNN=1/' Makefile"
      ]
    },
    {
      "cell_type": "code",
      "execution_count": null,
      "metadata": {
        "id": "HYk05Uzr35M-"
      },
      "outputs": [],
      "source": [
        "#compile Darknet\n",
        "!make"
      ]
    },
    {
      "cell_type": "code",
      "execution_count": null,
      "metadata": {
        "id": "W0vyjCStOEUw"
      },
      "outputs": [],
      "source": [
        "!ls"
      ]
    },
    {
      "cell_type": "markdown",
      "metadata": {
        "id": "3IAX80j04mxm"
      },
      "source": [
        "## 4.setting yolo"
      ]
    },
    {
      "cell_type": "code",
      "execution_count": null,
      "metadata": {
        "id": "GYU8nZnKLhSk"
      },
      "outputs": [],
      "source": [
        "#Make a copy of yolov3.cfg\n",
        "!cp cfg/yolov3.cfg cfg/yolov3_traning.cfg"
      ]
    },
    {
      "cell_type": "code",
      "execution_count": null,
      "metadata": {
        "id": "BgKeHE9hL9TF"
      },
      "outputs": [],
      "source": [
        "#change lines in yolov3.cfg file\n",
        "!sed -i 's/batch=1/batch=64/' cfg/yolov3_traning.cfg\n",
        "!sed -i 's/subdivisions=1/subdivisions=16/' cfg/yolov3_traning.cfg\n",
        "!sed -i 's/max_batches = 500200/max_batches=6000/' cfg/yolov3_traning.cfg\n",
        "!sed -i '610 s@classes=80@classes=2@' cfg/yolov3_traning.cfg\n",
        "!sed -i '696 s@classes=80@classes=2@' cfg/yolov3_traning.cfg\n",
        "!sed -i '783 s@classes=80@classes=2@' cfg/yolov3_traning.cfg\n",
        "!sed -i '603 s@filters=255@filters=21@' cfg/yolov3_traning.cfg\n",
        "!sed -i '689 s@filters=255@filters=21@' cfg/yolov3_traning.cfg\n",
        "!sed -i '776 s@filters=255@filters=21@' cfg/yolov3_traning.cfg\n",
        "\n"
      ]
    },
    {
      "cell_type": "markdown",
      "metadata": {
        "id": "I3wTIyQ7gCrQ"
      },
      "source": [
        "# 5.make file and save result\n"
      ]
    },
    {
      "cell_type": "code",
      "execution_count": null,
      "metadata": {
        "id": "eowkHMEmf7S3"
      },
      "outputs": [],
      "source": [
        "#create .names files\n",
        "!echo -e 'Waring Mask\\nNot wearing Mask' > data/obj.names\n"
      ]
    },
    {
      "cell_type": "code",
      "execution_count": null,
      "metadata": {
        "id": "-QmITclnh8uV"
      },
      "outputs": [],
      "source": [
        "# creat .data files\n",
        "!echo -e 'classes= 2\\ntrain = data/train.txt\\n valid = data/test.txt\\n names = data/obj.names\\n backup=/mydrive/yolov3' > data/obj.data"
      ]
    },
    {
      "cell_type": "markdown",
      "source": [
        "# `6.give image path and label`\n"
      ],
      "metadata": {
        "id": "V62N3Tgh2bcN"
      }
    },
    {
      "cell_type": "code",
      "source": [
        "#create a folder and unzip image dataset\n",
        "!mkdir data/obj\n",
        "!unzip /mydrive/yolov3/archive.zip -d data/obj\n",
        "!unzip /mydrive/yolov3/images.zip -d data/Tobj\n"
      ],
      "metadata": {
        "id": "3jqhMiUu2WiI"
      },
      "execution_count": null,
      "outputs": []
    },
    {
      "cell_type": "code",
      "source": [
        "#Create train.txt file\n",
        "import glob\n",
        "images_list = glob.glob(\"data/obj/archive/*.jpg\")\n",
        "print(images_list)\n",
        "with open(\"data/train.txt\", \"w\") as f:\n",
        "    f.write(\"\\n\".join(images_list))\n",
        "\n",
        "    \n"
      ],
      "metadata": {
        "colab": {
          "base_uri": "https://localhost:8080/"
        },
        "id": "gkA0fmmH74d7",
        "outputId": "03e3123f-93fd-4cac-e551-a21e26a105ac"
      },
      "execution_count": null,
      "outputs": [
        {
          "output_type": "stream",
          "name": "stdout",
          "text": [
            "[]\n"
          ]
        }
      ]
    },
    {
      "cell_type": "code",
      "source": [
        "import glob\n",
        "images_list = glob.glob(\"data/obj/images/*.jpg\")\n",
        "print(images_list)\n",
        "with open(\"data/test.txt\", \"w\") as f:\n",
        "    f.write(\"\\n\".join(images_list))\n",
        "\n",
        "    "
      ],
      "metadata": {
        "colab": {
          "base_uri": "https://localhost:8080/"
        },
        "id": "HPF21lkaamxM",
        "outputId": "f4c385a9-da1c-421d-993e-6a3027735e58"
      },
      "execution_count": null,
      "outputs": [
        {
          "output_type": "stream",
          "name": "stdout",
          "text": [
            "[]\n"
          ]
        }
      ]
    },
    {
      "cell_type": "markdown",
      "source": [
        "# 7.Transfer learning"
      ],
      "metadata": {
        "id": "NMb04uPky_cO"
      }
    },
    {
      "cell_type": "code",
      "source": [
        "# Download pre-trained weights for the convolutional layers file\n",
        "!wget https://pjreddie.com/media/files/darknet53.conv.74"
      ],
      "metadata": {
        "id": "FkigeG4BzF02"
      },
      "execution_count": null,
      "outputs": []
    },
    {
      "cell_type": "code",
      "source": [
        ""
      ],
      "metadata": {
        "id": "3m6fr1LG1CMm"
      },
      "execution_count": null,
      "outputs": []
    },
    {
      "cell_type": "code",
      "source": [
        "# Start training\n",
        "\n",
        "!./darknet detector train data/obj.data  cfg/yolov3_traning.cfg  darknet53.conv.74 -dont_show -mjpeg_port 8090 -map\n",
        "#!./darknet detector train data/obj.data cfg/yolov3_traning.cfg   ../gdrive/MyDrive/yolov3/yolov3_traning_last.weights -dont_show "
      ],
      "metadata": {
        "id": "uCKRtzTr02Ip"
      },
      "execution_count": null,
      "outputs": []
    }
  ],
  "metadata": {
    "accelerator": "GPU",
    "colab": {
      "collapsed_sections": [
        "qc_4mV5oNiBA"
      ],
      "name": "trainCostomYolov3.ipynb",
      "provenance": []
    },
    "kernelspec": {
      "display_name": "Python 3",
      "name": "python3"
    },
    "language_info": {
      "name": "python"
    }
  },
  "nbformat": 4,
  "nbformat_minor": 0
}